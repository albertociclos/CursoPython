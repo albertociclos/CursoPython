{
 "cells": [
  {
   "cell_type": "markdown",
   "id": "7c6b094e-a5e0-46e3-8bdf-e53d18350846",
   "metadata": {},
   "source": [
    "<b>Funciones</b>\n"
   ]
  },
  {
   "cell_type": "code",
   "execution_count": 1,
   "id": "13d29d31-fe62-4dde-ab5e-22b6c4a3ee24",
   "metadata": {},
   "outputs": [],
   "source": [
    "def suma(a,b):\n",
    "    valor=a+b\n",
    "    return valor\n",
    "    "
   ]
  },
  {
   "cell_type": "code",
   "execution_count": 2,
   "id": "73135a78-ec81-4f07-b457-c62315377c48",
   "metadata": {},
   "outputs": [
    {
     "name": "stdout",
     "output_type": "stream",
     "text": [
      "5\n"
     ]
    }
   ],
   "source": [
    "print(suma(2,3))"
   ]
  },
  {
   "cell_type": "code",
   "execution_count": 7,
   "id": "b24d89b7-61a9-4d52-a227-5436565e26d4",
   "metadata": {},
   "outputs": [],
   "source": [
    "def multiplica(a,b,c=1):\n",
    "    valor=a*b*c\n",
    "    return valor"
   ]
  },
  {
   "cell_type": "code",
   "execution_count": 9,
   "id": "c30b1f61-6f80-4dd7-bd65-036c0b06637b",
   "metadata": {},
   "outputs": [
    {
     "name": "stdout",
     "output_type": "stream",
     "text": [
      "6 24\n"
     ]
    }
   ],
   "source": [
    "print(multiplica(2,3),multiplica(2,3,4))"
   ]
  },
  {
   "cell_type": "code",
   "execution_count": 22,
   "id": "a0300a7b-f2e8-4397-9b45-c83161df6155",
   "metadata": {},
   "outputs": [
    {
     "name": "stdin",
     "output_type": "stream",
     "text": [
      " 4\n",
      " d\n"
     ]
    },
    {
     "name": "stdout",
     "output_type": "stream",
     "text": [
      "Debes escribir números\n"
     ]
    }
   ],
   "source": [
    "def divide(a,b):\n",
    "    if b!= 0:\n",
    "        valor=a/b\n",
    "        return valor\n",
    "    else:\n",
    "        print(\"No se puede dividir por cero\")\n",
    "dividendo=input()\n",
    "if dividendo.isnumeric():\n",
    "    dividendo=float(dividendo)\n",
    "    divisor=input()\n",
    "    if divisor.isnumeric():\n",
    "        divisor=float(dividendo)\n",
    "        print(divide(dividendo,divisor))\n",
    "    else:\n",
    "        print(\"Debes escribir números\")    \n",
    "else:\n",
    "    print(\"Debes escribir números\")\n",
    "    \n"
   ]
  },
  {
   "cell_type": "code",
   "execution_count": 23,
   "id": "76ee319b-8e57-424f-b060-a7917c29a796",
   "metadata": {},
   "outputs": [],
   "source": [
    "#funciones anónimas o funciones lambda"
   ]
  },
  {
   "cell_type": "code",
   "execution_count": 24,
   "id": "2acb6d18-72d7-4cbf-b131-da141e4ff28d",
   "metadata": {},
   "outputs": [],
   "source": [
    "suma2=lambda a,b: a+b"
   ]
  },
  {
   "cell_type": "code",
   "execution_count": 29,
   "id": "e113f2db-ca80-4195-93cb-76dbece304af",
   "metadata": {},
   "outputs": [
    {
     "data": {
      "text/plain": [
       "7"
      ]
     },
     "execution_count": 29,
     "metadata": {},
     "output_type": "execute_result"
    }
   ],
   "source": [
    "suma2(3,4)"
   ]
  },
  {
   "cell_type": "code",
   "execution_count": 30,
   "id": "b3737ffc-ff03-4947-938e-6c504f3482a0",
   "metadata": {},
   "outputs": [
    {
     "data": {
      "text/plain": [
       "'Hola Pepe'"
      ]
     },
     "execution_count": 30,
     "metadata": {},
     "output_type": "execute_result"
    }
   ],
   "source": [
    "suma2(\"Hola\",\" Pepe\")"
   ]
  },
  {
   "cell_type": "code",
   "execution_count": 31,
   "id": "cf84b4b2-3971-48d1-a472-08259babc758",
   "metadata": {},
   "outputs": [
    {
     "name": "stdout",
     "output_type": "stream",
     "text": [
      "Requirement already satisfied: pandas in c:\\users\\alberto\\appdata\\local\\programs\\python\\python311\\lib\\site-packages (2.2.2)\n",
      "Requirement already satisfied: numpy>=1.23.2 in c:\\users\\alberto\\appdata\\local\\programs\\python\\python311\\lib\\site-packages (from pandas) (1.26.4)\n",
      "Requirement already satisfied: python-dateutil>=2.8.2 in c:\\users\\alberto\\appdata\\local\\programs\\python\\python311\\lib\\site-packages (from pandas) (2.9.0.post0)\n",
      "Requirement already satisfied: pytz>=2020.1 in c:\\users\\alberto\\appdata\\local\\programs\\python\\python311\\lib\\site-packages (from pandas) (2024.1)\n",
      "Requirement already satisfied: tzdata>=2022.7 in c:\\users\\alberto\\appdata\\local\\programs\\python\\python311\\lib\\site-packages (from pandas) (2024.1)\n",
      "Requirement already satisfied: six>=1.5 in c:\\users\\alberto\\appdata\\local\\programs\\python\\python311\\lib\\site-packages (from python-dateutil>=2.8.2->pandas) (1.16.0)\n"
     ]
    }
   ],
   "source": [
    "!pip install pandas"
   ]
  },
  {
   "cell_type": "code",
   "execution_count": 33,
   "id": "5b3437bb-83b5-41be-9eab-318e0a20aaab",
   "metadata": {},
   "outputs": [],
   "source": [
    "import pandas as pd\n",
    "\n",
    "df=pd.read_json(\"estudiantes.json\")"
   ]
  },
  {
   "cell_type": "code",
   "execution_count": 34,
   "id": "cb2989a4-6c9d-4692-b2cf-ea2f38be539e",
   "metadata": {},
   "outputs": [
    {
     "data": {
      "text/html": [
       "<div>\n",
       "<style scoped>\n",
       "    .dataframe tbody tr th:only-of-type {\n",
       "        vertical-align: middle;\n",
       "    }\n",
       "\n",
       "    .dataframe tbody tr th {\n",
       "        vertical-align: top;\n",
       "    }\n",
       "\n",
       "    .dataframe thead th {\n",
       "        text-align: right;\n",
       "    }\n",
       "</style>\n",
       "<table border=\"1\" class=\"dataframe\">\n",
       "  <thead>\n",
       "    <tr style=\"text-align: right;\">\n",
       "      <th></th>\n",
       "      <th>_id</th>\n",
       "      <th>nombre</th>\n",
       "      <th>apellidos</th>\n",
       "      <th>edad</th>\n",
       "      <th>nota</th>\n",
       "      <th>email</th>\n",
       "    </tr>\n",
       "  </thead>\n",
       "  <tbody>\n",
       "    <tr>\n",
       "      <th>0</th>\n",
       "      <td>33a624e7-e6f1-40b2-b812-7e39a2df1f5d</td>\n",
       "      <td>Valeria</td>\n",
       "      <td>Sebastian Garcia</td>\n",
       "      <td>23</td>\n",
       "      <td>7.56</td>\n",
       "      <td>Valeria.Sebastian@yahoo.com</td>\n",
       "    </tr>\n",
       "    <tr>\n",
       "      <th>1</th>\n",
       "      <td>2cd47675-43f3-415c-bf18-c6cebaca70ab</td>\n",
       "      <td>Emma</td>\n",
       "      <td>Sanchez Abascal</td>\n",
       "      <td>23</td>\n",
       "      <td>8.16</td>\n",
       "      <td>Sanchez.Abascal@gmail.com</td>\n",
       "    </tr>\n",
       "    <tr>\n",
       "      <th>2</th>\n",
       "      <td>594ea4e7-75e3-4569-8af6-2c9164cbe238</td>\n",
       "      <td>Agustin</td>\n",
       "      <td>Sarabia Lopez</td>\n",
       "      <td>20</td>\n",
       "      <td>8.22</td>\n",
       "      <td>Sarabia.Lopez@gmail.com</td>\n",
       "    </tr>\n",
       "    <tr>\n",
       "      <th>3</th>\n",
       "      <td>3b521244-d2d4-40ba-8be8-b969d6ce8c93</td>\n",
       "      <td>Martina</td>\n",
       "      <td>Corominas Sarabia</td>\n",
       "      <td>25</td>\n",
       "      <td>7.67</td>\n",
       "      <td>MartinaySebastian@aol.com</td>\n",
       "    </tr>\n",
       "    <tr>\n",
       "      <th>4</th>\n",
       "      <td>e6f52130-362f-4a57-b178-aa94353260e1</td>\n",
       "      <td>David</td>\n",
       "      <td>Miranda Grande</td>\n",
       "      <td>19</td>\n",
       "      <td>7.45</td>\n",
       "      <td>DavidyValeria@gmail.com</td>\n",
       "    </tr>\n",
       "    <tr>\n",
       "      <th>...</th>\n",
       "      <td>...</td>\n",
       "      <td>...</td>\n",
       "      <td>...</td>\n",
       "      <td>...</td>\n",
       "      <td>...</td>\n",
       "      <td>...</td>\n",
       "    </tr>\n",
       "    <tr>\n",
       "      <th>9995</th>\n",
       "      <td>20a612ab-4b7f-4b3e-827a-9e27aeca93c8</td>\n",
       "      <td>Sebastian</td>\n",
       "      <td>Segarra Macias</td>\n",
       "      <td>23</td>\n",
       "      <td>6.02</td>\n",
       "      <td>Sebastian.Segarra@gmail.com</td>\n",
       "    </tr>\n",
       "    <tr>\n",
       "      <th>9996</th>\n",
       "      <td>412eeaa5-23d4-4587-b201-2b274df77920</td>\n",
       "      <td>Tomas</td>\n",
       "      <td>Sarabia Lopez</td>\n",
       "      <td>23</td>\n",
       "      <td>9.18</td>\n",
       "      <td>Tomas.Sarabia@yahoo.es</td>\n",
       "    </tr>\n",
       "    <tr>\n",
       "      <th>9997</th>\n",
       "      <td>fc0f8d6c-d641-4ec6-8e10-9e6f5643c5f6</td>\n",
       "      <td>Valeria</td>\n",
       "      <td>Garcia Sanchez</td>\n",
       "      <td>26</td>\n",
       "      <td>7.98</td>\n",
       "      <td>Valeria1990@gmail.com</td>\n",
       "    </tr>\n",
       "    <tr>\n",
       "      <th>9998</th>\n",
       "      <td>0673b369-b296-41a8-a0b0-23ef52b33755</td>\n",
       "      <td>Enrique</td>\n",
       "      <td>Merino Domingo</td>\n",
       "      <td>18</td>\n",
       "      <td>8.43</td>\n",
       "      <td>EnriqueyDiego@gmail.com</td>\n",
       "    </tr>\n",
       "    <tr>\n",
       "      <th>9999</th>\n",
       "      <td>8984eb68-2fc5-4524-a621-f8a1c841e66d</td>\n",
       "      <td>Maria</td>\n",
       "      <td>Antunez Rajoy</td>\n",
       "      <td>21</td>\n",
       "      <td>5.90</td>\n",
       "      <td>Maria.Antunez@gmail.com</td>\n",
       "    </tr>\n",
       "  </tbody>\n",
       "</table>\n",
       "<p>10000 rows × 6 columns</p>\n",
       "</div>"
      ],
      "text/plain": [
       "                                       _id     nombre          apellidos  \\\n",
       "0     33a624e7-e6f1-40b2-b812-7e39a2df1f5d    Valeria   Sebastian Garcia   \n",
       "1     2cd47675-43f3-415c-bf18-c6cebaca70ab       Emma    Sanchez Abascal   \n",
       "2     594ea4e7-75e3-4569-8af6-2c9164cbe238    Agustin      Sarabia Lopez   \n",
       "3     3b521244-d2d4-40ba-8be8-b969d6ce8c93    Martina  Corominas Sarabia   \n",
       "4     e6f52130-362f-4a57-b178-aa94353260e1      David     Miranda Grande   \n",
       "...                                    ...        ...                ...   \n",
       "9995  20a612ab-4b7f-4b3e-827a-9e27aeca93c8  Sebastian     Segarra Macias   \n",
       "9996  412eeaa5-23d4-4587-b201-2b274df77920      Tomas      Sarabia Lopez   \n",
       "9997  fc0f8d6c-d641-4ec6-8e10-9e6f5643c5f6    Valeria     Garcia Sanchez   \n",
       "9998  0673b369-b296-41a8-a0b0-23ef52b33755    Enrique     Merino Domingo   \n",
       "9999  8984eb68-2fc5-4524-a621-f8a1c841e66d      Maria      Antunez Rajoy   \n",
       "\n",
       "      edad  nota                        email  \n",
       "0       23  7.56  Valeria.Sebastian@yahoo.com  \n",
       "1       23  8.16    Sanchez.Abascal@gmail.com  \n",
       "2       20  8.22      Sarabia.Lopez@gmail.com  \n",
       "3       25  7.67    MartinaySebastian@aol.com  \n",
       "4       19  7.45      DavidyValeria@gmail.com  \n",
       "...    ...   ...                          ...  \n",
       "9995    23  6.02  Sebastian.Segarra@gmail.com  \n",
       "9996    23  9.18       Tomas.Sarabia@yahoo.es  \n",
       "9997    26  7.98        Valeria1990@gmail.com  \n",
       "9998    18  8.43      EnriqueyDiego@gmail.com  \n",
       "9999    21  5.90      Maria.Antunez@gmail.com  \n",
       "\n",
       "[10000 rows x 6 columns]"
      ]
     },
     "metadata": {},
     "output_type": "display_data"
    }
   ],
   "source": [
    "display(df)\n"
   ]
  },
  {
   "cell_type": "code",
   "execution_count": 35,
   "id": "3913f8a6-1742-4d02-acc8-eb4cf5e07db1",
   "metadata": {},
   "outputs": [
    {
     "data": {
      "text/plain": [
       "<Axes: xlabel='edad', ylabel='nota'>"
      ]
     },
     "execution_count": 35,
     "metadata": {},
     "output_type": "execute_result"
    },
    {
     "data": {
      "image/png": "[encoded data removed]",
      "text/plain": [
       "<Figure size 640x480 with 1 Axes>"
      ]
     },
     "metadata": {},
     "output_type": "display_data"
    }
   ],
   "source": [
    "df.plot(x='edad',y='nota',kind=\"scatter\")"
   ]
  },
  {
   "cell_type": "code",
   "execution_count": null,
   "id": "075063b4-dcf3-4607-b37e-94ac2fc6461a",
   "metadata": {},
   "outputs": [],
   "source": []
  }
 ],
 "metadata": {
  "kernelspec": {
   "display_name": "Python 3 (ipykernel)",
   "language": "python",
   "name": "python3"
  },
  "language_info": {
   "codemirror_mode": {
    "name": "ipython",
    "version": 3
   },
   "file_extension": ".py",
   "mimetype": "text/x-python",
   "name": "python",
   "nbconvert_exporter": "python",
   "pygments_lexer": "ipython3",
   "version": "3.11.1"
  }
 },
 "nbformat": 4,
 "nbformat_minor": 5
}
